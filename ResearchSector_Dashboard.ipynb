{
 "cells": [
  {
   "cell_type": "code",
   "execution_count": 2,
   "id": "3908db96-3e92-45e6-8c7e-36835cc0f0ab",
   "metadata": {},
   "outputs": [],
   "source": [
    "import streamlit as st\n",
    "import pandas as pd\n",
    "import matplotlib.pyplot as plt\n",
    "\n",
    "# Set Streamlit page config\n",
    "st.set_page_config(page_title=\"Sector Allocation Dashboard\", layout=\"wide\")\n",
    "\n",
    "# Sample sector returns DataFrame (replace with real data if available)\n",
    "data = {\n",
    "    \"date\": [\"2024-08-31\", \"2024-09-30\", \"2024-10-31\", \"2024-11-30\", \"2024-12-31\"],\n",
    "    \"XLK\": [0.006993, 0.024645, -0.015592, 0.051701, -0.005177],\n",
    "    \"XLF\": [0.045725, -0.009182, 0.025596, 0.104561, -0.058629],\n",
    "    \"XLE\": [-0.020706, -0.038124, 0.008998, 0.078338, -0.103318],\n",
    "    \"regime\": [\"Neutral\", \"Easing\", \"Easing\", \"Easing\", \"Easing\"]\n",
    "}\n",
    "df = pd.DataFrame(data)\n",
    "df[\"date\"] = pd.to_datetime(df[\"date\"])\n",
    "df.set_index(\"date\", inplace=True)\n",
    "\n",
    "# Sidebar for regime selection\n",
    "regimes = df[\"regime\"].unique().tolist()\n",
    "selected_regime = st.sidebar.selectbox(\"Select Regime\", regimes)\n",
    "\n",
    "# Filter data\n",
    "filtered_df = df[df[\"regime\"] == selected_regime]\n",
    "sector_returns = filtered_df.drop(columns=[\"regime\"])\n",
    "\n",
    "# Plot\n",
    "st.title(\"Sector Returns by Macro Regime\")\n",
    "st.write(f\"**Selected Regime:** {selected_regime}\")\n",
    "\n",
    "fig, ax = plt.subplots()\n",
    "sector_returns.mean().sort_values().plot(kind=\"barh\", ax=ax, color=\"skyblue\")\n",
    "ax.set_title(f\"Average Sector Returns ({selected_regime} Regime)\")\n",
    "ax.set_xlabel(\"Return\")\n",
    "st.pyplot(fig)\n",
    "\n",
    "# Optionally show raw data\n",
    "with st.expander(\"Show raw data\"):\n",
    "    st.dataframe(filtered_df)\n"
   ]
  },
  {
   "cell_type": "code",
   "execution_count": null,
   "id": "5ee4c285-7fb9-4bf4-a210-a18f9c267c66",
   "metadata": {},
   "outputs": [],
   "source": []
  }
 ],
 "metadata": {
  "kernelspec": {
   "display_name": "Python [conda env:base] *",
   "language": "python",
   "name": "conda-base-py"
  },
  "language_info": {
   "codemirror_mode": {
    "name": "ipython",
    "version": 3
   },
   "file_extension": ".py",
   "mimetype": "text/x-python",
   "name": "python",
   "nbconvert_exporter": "python",
   "pygments_lexer": "ipython3",
   "version": "3.12.7"
  }
 },
 "nbformat": 4,
 "nbformat_minor": 5
}

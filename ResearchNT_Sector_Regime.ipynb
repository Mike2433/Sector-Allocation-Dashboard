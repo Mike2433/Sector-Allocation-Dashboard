{
 "cells": [
  {
   "cell_type": "markdown",
   "id": "fadc35cb-2a48-46ab-ab3d-d7cfbeca184a",
   "metadata": {},
   "source": [
    "Installing Polygon API"
   ]
  },
  {
   "cell_type": "code",
   "execution_count": 1,
   "id": "3908db96-3e92-45e6-8c7e-36835cc0f0ab",
   "metadata": {},
   "outputs": [
    {
     "name": "stdout",
     "output_type": "stream",
     "text": [
      "Requirement already satisfied: polygon-api-client in c:\\users\\micha\\anaconda3\\lib\\site-packages (1.15.3)\n",
      "Requirement already satisfied: certifi<2026.0.0,>=2022.5.18 in c:\\users\\micha\\anaconda3\\lib\\site-packages (from polygon-api-client) (2024.12.14)\n",
      "Requirement already satisfied: urllib3<3.0.0,>=1.26.9 in c:\\users\\micha\\anaconda3\\lib\\site-packages (from polygon-api-client) (2.2.3)\n",
      "Requirement already satisfied: websockets<15.0,>=10.3 in c:\\users\\micha\\anaconda3\\lib\\site-packages (from polygon-api-client) (14.2)\n"
     ]
    },
    {
     "name": "stderr",
     "output_type": "stream",
     "text": [
      "\n",
      "[notice] A new release of pip is available: 25.0.1 -> 25.2\n",
      "[notice] To update, run: python.exe -m pip install --upgrade pip\n"
     ]
    }
   ],
   "source": [
    "!pip install polygon-api-client"
   ]
  },
  {
   "cell_type": "markdown",
   "id": "e676a95b-90ca-4f11-a31b-e6b044fc65d5",
   "metadata": {},
   "source": [
    "Pulling Sector ETF Data"
   ]
  },
  {
   "cell_type": "code",
   "execution_count": 2,
   "id": "ea360b20-17d5-4811-b801-b55e9913e6ce",
   "metadata": {},
   "outputs": [
    {
     "name": "stdout",
     "output_type": "stream",
     "text": [
      "Downloaded: XLK\n",
      "Downloaded: XLF\n",
      "Downloaded: XLE\n"
     ]
    },
    {
     "data": {
      "text/html": [
       "<div>\n",
       "<style scoped>\n",
       "    .dataframe tbody tr th:only-of-type {\n",
       "        vertical-align: middle;\n",
       "    }\n",
       "\n",
       "    .dataframe tbody tr th {\n",
       "        vertical-align: top;\n",
       "    }\n",
       "\n",
       "    .dataframe thead th {\n",
       "        text-align: right;\n",
       "    }\n",
       "</style>\n",
       "<table border=\"1\" class=\"dataframe\">\n",
       "  <thead>\n",
       "    <tr style=\"text-align: right;\">\n",
       "      <th></th>\n",
       "      <th>XLK</th>\n",
       "      <th>XLF</th>\n",
       "      <th>XLE</th>\n",
       "    </tr>\n",
       "    <tr>\n",
       "      <th>date</th>\n",
       "      <th></th>\n",
       "      <th></th>\n",
       "      <th></th>\n",
       "    </tr>\n",
       "  </thead>\n",
       "  <tbody>\n",
       "    <tr>\n",
       "      <th>2024-12-24</th>\n",
       "      <td>240.53</td>\n",
       "      <td>48.99</td>\n",
       "      <td>84.64</td>\n",
       "    </tr>\n",
       "    <tr>\n",
       "      <th>2024-12-26</th>\n",
       "      <td>240.69</td>\n",
       "      <td>49.11</td>\n",
       "      <td>84.57</td>\n",
       "    </tr>\n",
       "    <tr>\n",
       "      <th>2024-12-27</th>\n",
       "      <td>237.49</td>\n",
       "      <td>48.75</td>\n",
       "      <td>84.56</td>\n",
       "    </tr>\n",
       "    <tr>\n",
       "      <th>2024-12-30</th>\n",
       "      <td>234.47</td>\n",
       "      <td>48.28</td>\n",
       "      <td>84.55</td>\n",
       "    </tr>\n",
       "    <tr>\n",
       "      <th>2024-12-31</th>\n",
       "      <td>232.52</td>\n",
       "      <td>48.33</td>\n",
       "      <td>85.66</td>\n",
       "    </tr>\n",
       "  </tbody>\n",
       "</table>\n",
       "</div>"
      ],
      "text/plain": [
       "               XLK    XLF    XLE\n",
       "date                            \n",
       "2024-12-24  240.53  48.99  84.64\n",
       "2024-12-26  240.69  49.11  84.57\n",
       "2024-12-27  237.49  48.75  84.56\n",
       "2024-12-30  234.47  48.28  84.55\n",
       "2024-12-31  232.52  48.33  85.66"
      ]
     },
     "execution_count": 2,
     "metadata": {},
     "output_type": "execute_result"
    }
   ],
   "source": [
    "from polygon import RESTClient\n",
    "import pandas as pd\n",
    "import time\n",
    "\n",
    "# Your API Key\n",
    "api_key = \"QsO_c5YIOMokbiL6pSl2DTQV0CxLusBS\"\n",
    "client = RESTClient(api_key)\n",
    "\n",
    "# Function to get daily close prices\n",
    "def get_sector_prices(ticker, start_date, end_date):\n",
    "    bars = []\n",
    "    for bar in client.list_aggs(\n",
    "        ticker=ticker,\n",
    "        multiplier=1,\n",
    "        timespan=\"day\",\n",
    "        from_=start_date,\n",
    "        to=end_date,\n",
    "        limit=50000,\n",
    "    ):\n",
    "        bars.append(bar)\n",
    "    \n",
    "    df = pd.DataFrame([{\n",
    "        'date': pd.to_datetime(bar.timestamp, unit='ms').date(),\n",
    "        'close': bar.close\n",
    "    } for bar in bars])\n",
    "    \n",
    "    df.set_index('date', inplace=True)\n",
    "    df.rename(columns={'close': ticker}, inplace=True)\n",
    "    return df\n",
    "\n",
    "# Pulling a few tickers first to stay within limits\n",
    "tickers = ['XLK', 'XLF', 'XLE']  # Start small — more later\n",
    "start = \"2015-01-01\"\n",
    "end = \"2024-12-31\"\n",
    "\n",
    "all_data = pd.DataFrame()\n",
    "\n",
    "for ticker in tickers:\n",
    "    try:\n",
    "        df = get_sector_prices(ticker, start, end)\n",
    "        if all_data.empty:\n",
    "            all_data = df\n",
    "        else:\n",
    "            all_data = all_data.join(df, how='outer')\n",
    "        print(f\"Downloaded: {ticker}\")\n",
    "        time.sleep(2.5)  # rate limit buffer\n",
    "    except Exception as e:\n",
    "        print(f\"Failed for {ticker}: {e}\")\n",
    "\n",
    "# Check result\n",
    "all_data.tail()\n",
    "\n"
   ]
  },
  {
   "cell_type": "code",
   "execution_count": 3,
   "id": "54620073-96f5-4cde-9c3e-6ba0006927ad",
   "metadata": {},
   "outputs": [
    {
     "name": "stdout",
     "output_type": "stream",
     "text": [
      "Requirement already satisfied: fredapi in c:\\users\\micha\\anaconda3\\lib\\site-packages (0.5.2)\n",
      "Requirement already satisfied: pandas in c:\\users\\micha\\anaconda3\\lib\\site-packages (from fredapi) (2.2.2)\n",
      "Requirement already satisfied: numpy>=1.26.0 in c:\\users\\micha\\anaconda3\\lib\\site-packages (from pandas->fredapi) (1.26.4)\n",
      "Requirement already satisfied: python-dateutil>=2.8.2 in c:\\users\\micha\\anaconda3\\lib\\site-packages (from pandas->fredapi) (2.9.0.post0)\n",
      "Requirement already satisfied: pytz>=2020.1 in c:\\users\\micha\\anaconda3\\lib\\site-packages (from pandas->fredapi) (2024.1)\n",
      "Requirement already satisfied: tzdata>=2022.7 in c:\\users\\micha\\anaconda3\\lib\\site-packages (from pandas->fredapi) (2023.3)\n",
      "Requirement already satisfied: six>=1.5 in c:\\users\\micha\\anaconda3\\lib\\site-packages (from python-dateutil>=2.8.2->pandas->fredapi) (1.16.0)\n"
     ]
    },
    {
     "name": "stderr",
     "output_type": "stream",
     "text": [
      "\n",
      "[notice] A new release of pip is available: 25.0.1 -> 25.2\n",
      "[notice] To update, run: python.exe -m pip install --upgrade pip\n"
     ]
    }
   ],
   "source": [
    "!pip install fredapi\n"
   ]
  },
  {
   "cell_type": "markdown",
   "id": "e3f8b736-7515-4179-8677-2d79483c8443",
   "metadata": {},
   "source": [
    "Step 1: Load and Process Macro Data"
   ]
  },
  {
   "cell_type": "code",
   "execution_count": 4,
   "id": "c2ee10ac-b7fc-4d2d-8fba-d772f608fc77",
   "metadata": {},
   "outputs": [],
   "source": [
    "from fredapi import Fred\n",
    "import pandas as pd\n",
    "\n",
    "# Connect to FRED\n",
    "fred = Fred(api_key='46cbb3d72d7a6d27cb64ec89c75a161c')\n",
    "\n",
    "# Pull monthly data with updated frequency alias\n",
    "cpi = fred.get_series('CPIAUCSL').resample('ME').last()\n",
    "fedfunds = fred.get_series('FEDFUNDS').resample('ME').last()\n",
    "\n",
    "\n",
    "# Calculate YoY Inflation\n",
    "cpi_yoy = cpi.pct_change(12) * 100\n",
    "\n"
   ]
  },
  {
   "cell_type": "markdown",
   "id": "094e7e9e-5252-4925-9e68-063a9f7b5a64",
   "metadata": {},
   "source": [
    " Build the Macro Regime DataFrame"
   ]
  },
  {
   "cell_type": "code",
   "execution_count": 5,
   "id": "02b53636-5900-4faa-9e7b-87bd86f0dfdc",
   "metadata": {},
   "outputs": [],
   "source": [
    "macro = pd.DataFrame({\n",
    "    'cpi_yoy': cpi_yoy,\n",
    "    'fedfunds': fedfunds\n",
    "})\n",
    "\n",
    "# Detect Fed Funds Rate trend using 6-month slope\n",
    "macro['fedfunds_slope'] = macro['fedfunds'].diff(6)\n",
    "\n",
    "# Classify slope as \"up\", \"down\", or \"flat\"\n",
    "def classify_trend(x, threshold=0.1):\n",
    "    if x > threshold:\n",
    "        return 'up'\n",
    "    elif x < -threshold:\n",
    "        return 'down'\n",
    "    else:\n",
    "        return 'flat'\n",
    "\n",
    "macro['rate_trend'] = macro['fedfunds_slope'].apply(classify_trend)\n"
   ]
  },
  {
   "cell_type": "markdown",
   "id": "1a687324-1c49-465b-b4a2-4014bf6a3c8b",
   "metadata": {},
   "source": [
    " Define Macro Regimes Based on Conditions"
   ]
  },
  {
   "cell_type": "code",
   "execution_count": 6,
   "id": "0b19e83c-ec2b-40ac-9e92-c3b6067fc3e0",
   "metadata": {},
   "outputs": [],
   "source": [
    "def tag_regime(row):\n",
    "    if row['cpi_yoy'] > 3 and row['rate_trend'] == 'up':\n",
    "        return 'Stagflation'\n",
    "    elif row['cpi_yoy'] < 2 and row['rate_trend'] == 'down':\n",
    "        return 'Recovery'\n",
    "    elif row['rate_trend'] == 'up':\n",
    "        return 'Hiking'\n",
    "    elif row['rate_trend'] == 'down':\n",
    "        return 'Easing'\n",
    "    else:\n",
    "        return 'Neutral'\n",
    "\n",
    "macro['regime'] = macro.apply(tag_regime, axis=1)\n"
   ]
  },
  {
   "cell_type": "markdown",
   "id": "b339c030-04b0-41d7-9dca-6236b1346027",
   "metadata": {},
   "source": [
    "Preview the Regime-Tagged Macro Data"
   ]
  },
  {
   "cell_type": "code",
   "execution_count": 7,
   "id": "cefc56b8-0c09-43ce-b88e-fe1c68f20c03",
   "metadata": {},
   "outputs": [
    {
     "data": {
      "text/html": [
       "<div>\n",
       "<style scoped>\n",
       "    .dataframe tbody tr th:only-of-type {\n",
       "        vertical-align: middle;\n",
       "    }\n",
       "\n",
       "    .dataframe tbody tr th {\n",
       "        vertical-align: top;\n",
       "    }\n",
       "\n",
       "    .dataframe thead th {\n",
       "        text-align: right;\n",
       "    }\n",
       "</style>\n",
       "<table border=\"1\" class=\"dataframe\">\n",
       "  <thead>\n",
       "    <tr style=\"text-align: right;\">\n",
       "      <th></th>\n",
       "      <th>cpi_yoy</th>\n",
       "      <th>fedfunds</th>\n",
       "      <th>rate_trend</th>\n",
       "      <th>regime</th>\n",
       "    </tr>\n",
       "  </thead>\n",
       "  <tbody>\n",
       "    <tr>\n",
       "      <th>2024-08-31</th>\n",
       "      <td>2.610914</td>\n",
       "      <td>5.33</td>\n",
       "      <td>flat</td>\n",
       "      <td>Neutral</td>\n",
       "    </tr>\n",
       "    <tr>\n",
       "      <th>2024-09-30</th>\n",
       "      <td>2.432541</td>\n",
       "      <td>5.13</td>\n",
       "      <td>down</td>\n",
       "      <td>Easing</td>\n",
       "    </tr>\n",
       "    <tr>\n",
       "      <th>2024-10-31</th>\n",
       "      <td>2.571403</td>\n",
       "      <td>4.83</td>\n",
       "      <td>down</td>\n",
       "      <td>Easing</td>\n",
       "    </tr>\n",
       "    <tr>\n",
       "      <th>2024-11-30</th>\n",
       "      <td>2.714168</td>\n",
       "      <td>4.64</td>\n",
       "      <td>down</td>\n",
       "      <td>Easing</td>\n",
       "    </tr>\n",
       "    <tr>\n",
       "      <th>2024-12-31</th>\n",
       "      <td>2.872366</td>\n",
       "      <td>4.48</td>\n",
       "      <td>down</td>\n",
       "      <td>Easing</td>\n",
       "    </tr>\n",
       "    <tr>\n",
       "      <th>2025-01-31</th>\n",
       "      <td>2.999413</td>\n",
       "      <td>4.33</td>\n",
       "      <td>down</td>\n",
       "      <td>Easing</td>\n",
       "    </tr>\n",
       "    <tr>\n",
       "      <th>2025-02-28</th>\n",
       "      <td>2.814270</td>\n",
       "      <td>4.33</td>\n",
       "      <td>down</td>\n",
       "      <td>Easing</td>\n",
       "    </tr>\n",
       "    <tr>\n",
       "      <th>2025-03-31</th>\n",
       "      <td>2.405585</td>\n",
       "      <td>4.33</td>\n",
       "      <td>down</td>\n",
       "      <td>Easing</td>\n",
       "    </tr>\n",
       "    <tr>\n",
       "      <th>2025-04-30</th>\n",
       "      <td>2.333747</td>\n",
       "      <td>4.33</td>\n",
       "      <td>down</td>\n",
       "      <td>Easing</td>\n",
       "    </tr>\n",
       "    <tr>\n",
       "      <th>2025-05-31</th>\n",
       "      <td>2.375934</td>\n",
       "      <td>4.33</td>\n",
       "      <td>down</td>\n",
       "      <td>Easing</td>\n",
       "    </tr>\n",
       "    <tr>\n",
       "      <th>2025-06-30</th>\n",
       "      <td>2.672683</td>\n",
       "      <td>4.33</td>\n",
       "      <td>down</td>\n",
       "      <td>Easing</td>\n",
       "    </tr>\n",
       "    <tr>\n",
       "      <th>2025-07-31</th>\n",
       "      <td>NaN</td>\n",
       "      <td>4.33</td>\n",
       "      <td>flat</td>\n",
       "      <td>Neutral</td>\n",
       "    </tr>\n",
       "  </tbody>\n",
       "</table>\n",
       "</div>"
      ],
      "text/plain": [
       "             cpi_yoy  fedfunds rate_trend   regime\n",
       "2024-08-31  2.610914      5.33       flat  Neutral\n",
       "2024-09-30  2.432541      5.13       down   Easing\n",
       "2024-10-31  2.571403      4.83       down   Easing\n",
       "2024-11-30  2.714168      4.64       down   Easing\n",
       "2024-12-31  2.872366      4.48       down   Easing\n",
       "2025-01-31  2.999413      4.33       down   Easing\n",
       "2025-02-28  2.814270      4.33       down   Easing\n",
       "2025-03-31  2.405585      4.33       down   Easing\n",
       "2025-04-30  2.333747      4.33       down   Easing\n",
       "2025-05-31  2.375934      4.33       down   Easing\n",
       "2025-06-30  2.672683      4.33       down   Easing\n",
       "2025-07-31       NaN      4.33       flat  Neutral"
      ]
     },
     "execution_count": 7,
     "metadata": {},
     "output_type": "execute_result"
    }
   ],
   "source": [
    "macro[['cpi_yoy', 'fedfunds', 'rate_trend', 'regime']].tail(12)\n"
   ]
  },
  {
   "cell_type": "code",
   "execution_count": 8,
   "id": "c219258b-f21e-4b10-a6e4-58e5879b96e7",
   "metadata": {},
   "outputs": [
    {
     "data": {
      "text/html": [
       "<div>\n",
       "<style scoped>\n",
       "    .dataframe tbody tr th:only-of-type {\n",
       "        vertical-align: middle;\n",
       "    }\n",
       "\n",
       "    .dataframe tbody tr th {\n",
       "        vertical-align: top;\n",
       "    }\n",
       "\n",
       "    .dataframe thead th {\n",
       "        text-align: right;\n",
       "    }\n",
       "</style>\n",
       "<table border=\"1\" class=\"dataframe\">\n",
       "  <thead>\n",
       "    <tr style=\"text-align: right;\">\n",
       "      <th></th>\n",
       "      <th>XLK</th>\n",
       "      <th>XLF</th>\n",
       "      <th>XLE</th>\n",
       "      <th>regime</th>\n",
       "    </tr>\n",
       "  </thead>\n",
       "  <tbody>\n",
       "    <tr>\n",
       "      <th>2024-08-31</th>\n",
       "      <td>0.006993</td>\n",
       "      <td>0.045725</td>\n",
       "      <td>-0.020706</td>\n",
       "      <td>Neutral</td>\n",
       "    </tr>\n",
       "    <tr>\n",
       "      <th>2024-09-30</th>\n",
       "      <td>0.024645</td>\n",
       "      <td>-0.009182</td>\n",
       "      <td>-0.038124</td>\n",
       "      <td>Easing</td>\n",
       "    </tr>\n",
       "    <tr>\n",
       "      <th>2024-10-31</th>\n",
       "      <td>-0.015592</td>\n",
       "      <td>0.025596</td>\n",
       "      <td>0.008998</td>\n",
       "      <td>Easing</td>\n",
       "    </tr>\n",
       "    <tr>\n",
       "      <th>2024-11-30</th>\n",
       "      <td>0.051701</td>\n",
       "      <td>0.104561</td>\n",
       "      <td>0.078338</td>\n",
       "      <td>Easing</td>\n",
       "    </tr>\n",
       "    <tr>\n",
       "      <th>2024-12-31</th>\n",
       "      <td>-0.005177</td>\n",
       "      <td>-0.058629</td>\n",
       "      <td>-0.103318</td>\n",
       "      <td>Easing</td>\n",
       "    </tr>\n",
       "  </tbody>\n",
       "</table>\n",
       "</div>"
      ],
      "text/plain": [
       "                 XLK       XLF       XLE   regime\n",
       "2024-08-31  0.006993  0.045725 -0.020706  Neutral\n",
       "2024-09-30  0.024645 -0.009182 -0.038124   Easing\n",
       "2024-10-31 -0.015592  0.025596  0.008998   Easing\n",
       "2024-11-30  0.051701  0.104561  0.078338   Easing\n",
       "2024-12-31 -0.005177 -0.058629 -0.103318   Easing"
      ]
     },
     "execution_count": 8,
     "metadata": {},
     "output_type": "execute_result"
    }
   ],
   "source": [
    "# Resample ETF prices to month-end\n",
    "\n",
    "# 🛠️ Fix: convert index to datetime\n",
    "all_data.index = pd.to_datetime(all_data.index)\n",
    "\n",
    "# ✅ Now resample to month-end frequency\n",
    "sector_monthly = all_data.resample('ME').last()\n",
    "\n",
    "sector_monthly = all_data.resample('ME').last()\n",
    "\n",
    "# Calculate monthly returns\n",
    "sector_returns = sector_monthly.pct_change()\n",
    "\n",
    "# Merge with macro regimes\n",
    "combined = pd.merge(sector_returns, macro[['regime']], left_index=True, right_index=True, how='inner')\n",
    "\n",
    "# Preview\n",
    "combined.tail()\n",
    "\n"
   ]
  },
  {
   "cell_type": "markdown",
   "id": "c5690cf0-f7e8-4a0b-9c98-88ebb1120079",
   "metadata": {},
   "source": [
    "Plot Average Sector Returns by Regime"
   ]
  },
  {
   "cell_type": "code",
   "execution_count": 9,
   "id": "930bb978-9736-45e4-a963-efb5ef7afcb1",
   "metadata": {},
   "outputs": [
    {
     "data": {
      "image/png": "[encoded data removed]",
      "text/plain": [
       "<Figure size 1000x600 with 1 Axes>"
      ]
     },
     "metadata": {},
     "output_type": "display_data"
    }
   ],
   "source": [
    "import matplotlib.pyplot as plt\n",
    "\n",
    "# Step 1: Group and average returns by regime\n",
    "avg_returns_by_regime = combined.groupby('regime').mean()\n",
    "\n",
    "# Step 2: Transpose so sectors are rows\n",
    "avg_returns_by_regime = avg_returns_by_regime.T\n",
    "\n",
    "# Step 3: Plot\n",
    "avg_returns_by_regime.plot(kind='bar', figsize=(10, 6))\n",
    "\n",
    "# Step 4: Customize\n",
    "plt.title('Average Monthly Sector Returns by Macro Regime')\n",
    "plt.ylabel('Average Monthly Return')\n",
    "plt.xlabel('Sector ETF')\n",
    "plt.grid(True)\n",
    "plt.legend(title='Macro Regime')\n",
    "plt.tight_layout()\n",
    "\n",
    "# Step 5: Show the chart\n",
    "plt.show()\n"
   ]
  },
  {
   "cell_type": "markdown",
   "id": "5605517e-7914-4ceb-bbc9-8da6e762b449",
   "metadata": {},
   "source": [
    "Installing Streamlit"
   ]
  },
  {
   "cell_type": "code",
   "execution_count": 10,
   "id": "55158398-f3b8-47d6-8a17-a7b6f31468ba",
   "metadata": {},
   "outputs": [
    {
     "name": "stdout",
     "output_type": "stream",
     "text": [
      "Requirement already satisfied: streamlit in c:\\users\\micha\\anaconda3\\lib\\site-packages (1.37.1)\n",
      "Requirement already satisfied: altair<6,>=4.0 in c:\\users\\micha\\anaconda3\\lib\\site-packages (from streamlit) (5.0.1)\n",
      "Requirement already satisfied: blinker<2,>=1.0.0 in c:\\users\\micha\\anaconda3\\lib\\site-packages (from streamlit) (1.6.2)\n",
      "Requirement already satisfied: cachetools<6,>=4.0 in c:\\users\\micha\\anaconda3\\lib\\site-packages (from streamlit) (5.3.3)\n",
      "Requirement already satisfied: click<9,>=7.0 in c:\\users\\micha\\anaconda3\\lib\\site-packages (from streamlit) (8.1.7)\n",
      "Requirement already satisfied: numpy<3,>=1.20 in c:\\users\\micha\\anaconda3\\lib\\site-packages (from streamlit) (1.26.4)\n",
      "Requirement already satisfied: packaging<25,>=20 in c:\\users\\micha\\anaconda3\\lib\\site-packages (from streamlit) (24.1)\n",
      "Requirement already satisfied: pandas<3,>=1.3.0 in c:\\users\\micha\\anaconda3\\lib\\site-packages (from streamlit) (2.2.2)\n",
      "Requirement already satisfied: pillow<11,>=7.1.0 in c:\\users\\micha\\anaconda3\\lib\\site-packages (from streamlit) (10.4.0)\n",
      "Requirement already satisfied: protobuf<6,>=3.20 in c:\\users\\micha\\anaconda3\\lib\\site-packages (from streamlit) (4.25.3)\n",
      "Requirement already satisfied: pyarrow>=7.0 in c:\\users\\micha\\anaconda3\\lib\\site-packages (from streamlit) (16.1.0)\n",
      "Requirement already satisfied: requests<3,>=2.27 in c:\\users\\micha\\anaconda3\\lib\\site-packages (from streamlit) (2.32.3)\n",
      "Requirement already satisfied: rich<14,>=10.14.0 in c:\\users\\micha\\anaconda3\\lib\\site-packages (from streamlit) (13.7.1)\n",
      "Requirement already satisfied: tenacity<9,>=8.1.0 in c:\\users\\micha\\anaconda3\\lib\\site-packages (from streamlit) (8.2.3)\n",
      "Requirement already satisfied: toml<2,>=0.10.1 in c:\\users\\micha\\anaconda3\\lib\\site-packages (from streamlit) (0.10.2)\n",
      "Requirement already satisfied: typing-extensions<5,>=4.3.0 in c:\\users\\micha\\anaconda3\\lib\\site-packages (from streamlit) (4.11.0)\n",
      "Requirement already satisfied: gitpython!=3.1.19,<4,>=3.0.7 in c:\\users\\micha\\anaconda3\\lib\\site-packages (from streamlit) (3.1.43)\n",
      "Requirement already satisfied: pydeck<1,>=0.8.0b4 in c:\\users\\micha\\anaconda3\\lib\\site-packages (from streamlit) (0.8.0)\n",
      "Requirement already satisfied: tornado<7,>=6.0.3 in c:\\users\\micha\\anaconda3\\lib\\site-packages (from streamlit) (6.4.1)\n",
      "Requirement already satisfied: watchdog<5,>=2.1.5 in c:\\users\\micha\\anaconda3\\lib\\site-packages (from streamlit) (4.0.1)\n",
      "Requirement already satisfied: jinja2 in c:\\users\\micha\\anaconda3\\lib\\site-packages (from altair<6,>=4.0->streamlit) (3.1.4)\n",
      "Requirement already satisfied: jsonschema>=3.0 in c:\\users\\micha\\anaconda3\\lib\\site-packages (from altair<6,>=4.0->streamlit) (4.23.0)\n",
      "Requirement already satisfied: toolz in c:\\users\\micha\\anaconda3\\lib\\site-packages (from altair<6,>=4.0->streamlit) (0.12.0)\n",
      "Requirement already satisfied: colorama in c:\\users\\micha\\anaconda3\\lib\\site-packages (from click<9,>=7.0->streamlit) (0.4.6)\n",
      "Requirement already satisfied: gitdb<5,>=4.0.1 in c:\\users\\micha\\anaconda3\\lib\\site-packages (from gitpython!=3.1.19,<4,>=3.0.7->streamlit) (4.0.7)\n",
      "Requirement already satisfied: python-dateutil>=2.8.2 in c:\\users\\micha\\anaconda3\\lib\\site-packages (from pandas<3,>=1.3.0->streamlit) (2.9.0.post0)\n",
      "Requirement already satisfied: pytz>=2020.1 in c:\\users\\micha\\anaconda3\\lib\\site-packages (from pandas<3,>=1.3.0->streamlit) (2024.1)\n",
      "Requirement already satisfied: tzdata>=2022.7 in c:\\users\\micha\\anaconda3\\lib\\site-packages (from pandas<3,>=1.3.0->streamlit) (2023.3)\n",
      "Requirement already satisfied: charset-normalizer<4,>=2 in c:\\users\\micha\\anaconda3\\lib\\site-packages (from requests<3,>=2.27->streamlit) (3.3.2)\n",
      "Requirement already satisfied: idna<4,>=2.5 in c:\\users\\micha\\anaconda3\\lib\\site-packages (from requests<3,>=2.27->streamlit) (3.7)\n",
      "Requirement already satisfied: urllib3<3,>=1.21.1 in c:\\users\\micha\\anaconda3\\lib\\site-packages (from requests<3,>=2.27->streamlit) (2.2.3)\n",
      "Requirement already satisfied: certifi>=2017.4.17 in c:\\users\\micha\\anaconda3\\lib\\site-packages (from requests<3,>=2.27->streamlit) (2024.12.14)\n",
      "Requirement already satisfied: markdown-it-py>=2.2.0 in c:\\users\\micha\\anaconda3\\lib\\site-packages (from rich<14,>=10.14.0->streamlit) (2.2.0)\n",
      "Requirement already satisfied: pygments<3.0.0,>=2.13.0 in c:\\users\\micha\\anaconda3\\lib\\site-packages (from rich<14,>=10.14.0->streamlit) (2.15.1)\n",
      "Requirement already satisfied: smmap<5,>=3.0.1 in c:\\users\\micha\\anaconda3\\lib\\site-packages (from gitdb<5,>=4.0.1->gitpython!=3.1.19,<4,>=3.0.7->streamlit) (4.0.0)\n",
      "Requirement already satisfied: MarkupSafe>=2.0 in c:\\users\\micha\\anaconda3\\lib\\site-packages (from jinja2->altair<6,>=4.0->streamlit) (2.1.3)\n",
      "Requirement already satisfied: attrs>=22.2.0 in c:\\users\\micha\\anaconda3\\lib\\site-packages (from jsonschema>=3.0->altair<6,>=4.0->streamlit) (23.1.0)\n",
      "Requirement already satisfied: jsonschema-specifications>=2023.03.6 in c:\\users\\micha\\anaconda3\\lib\\site-packages (from jsonschema>=3.0->altair<6,>=4.0->streamlit) (2023.7.1)\n",
      "Requirement already satisfied: referencing>=0.28.4 in c:\\users\\micha\\anaconda3\\lib\\site-packages (from jsonschema>=3.0->altair<6,>=4.0->streamlit) (0.30.2)\n",
      "Requirement already satisfied: rpds-py>=0.7.1 in c:\\users\\micha\\anaconda3\\lib\\site-packages (from jsonschema>=3.0->altair<6,>=4.0->streamlit) (0.10.6)\n",
      "Requirement already satisfied: mdurl~=0.1 in c:\\users\\micha\\anaconda3\\lib\\site-packages (from markdown-it-py>=2.2.0->rich<14,>=10.14.0->streamlit) (0.1.0)\n",
      "Requirement already satisfied: six>=1.5 in c:\\users\\micha\\anaconda3\\lib\\site-packages (from python-dateutil>=2.8.2->pandas<3,>=1.3.0->streamlit) (1.16.0)\n",
      "Note: you may need to restart the kernel to use updated packages.\n"
     ]
    },
    {
     "name": "stderr",
     "output_type": "stream",
     "text": [
      "\n",
      "[notice] A new release of pip is available: 25.0.1 -> 25.2\n",
      "[notice] To update, run: python.exe -m pip install --upgrade pip\n"
     ]
    }
   ],
   "source": [
    "pip install streamlit\n"
   ]
  },
  {
   "cell_type": "markdown",
   "id": "3d903a0f-b203-43a6-81e4-c24fe7ca6737",
   "metadata": {},
   "source": [
    "Running Dashboard"
   ]
  },
  {
   "cell_type": "code",
   "execution_count": 11,
   "id": "bc60d784-cadb-42d3-803c-fbb5def112ef",
   "metadata": {},
   "outputs": [
    {
     "name": "stderr",
     "output_type": "stream",
     "text": [
      "2025-08-05 22:55:32.485 \n",
      "  \u001b[33m\u001b[1mWarning:\u001b[0m to view this Streamlit app on a browser, run it with the following\n",
      "  command:\n",
      "\n",
      "    streamlit run C:\\Users\\micha\\anaconda3\\Lib\\site-packages\\ipykernel_launcher.py [ARGUMENTS]\n",
      "2025-08-05 22:55:32.489 Session state does not function when running a script without `streamlit run`\n"
     ]
    },
    {
     "data": {
      "image/png": "[encoded data removed]",
      "text/plain": [
       "<Figure size 640x480 with 1 Axes>"
      ]
     },
     "metadata": {},
     "output_type": "display_data"
    }
   ],
   "source": [
    "import streamlit as st\n",
    "import pandas as pd\n",
    "import matplotlib.pyplot as plt\n",
    "\n",
    "# Load your combined dataset\n",
    "# (Replace this with your real data loading step)\n",
    "# You can use: combined = pd.read_csv('your_file.csv', index_col=0, parse_dates=True)\n",
    "from pathlib import Path\n",
    "if Path(\"combined.parquet\").exists():\n",
    "    combined = pd.read_parquet(\"combined.parquet\")\n",
    "else:\n",
    "    st.error(\"Missing combined.parquet file — please export your DataFrame as Parquet.\")\n",
    "    st.stop()\n",
    "\n",
    "st.title(\"Sector Allocation by Macro Regime\")\n",
    "\n",
    "# Sidebar: regime selector\n",
    "regimes = combined['regime'].dropna().unique().tolist()\n",
    "selected_regime = st.sidebar.selectbox(\"Select Macro Regime\", sorted(regimes))\n",
    "\n",
    "# Filter data\n",
    "filtered = combined[combined['regime'] == selected_regime]\n",
    "\n",
    "# Drop non-sector columns\n",
    "sector_cols = [col for col in filtered.columns if col not in ['regime']]\n",
    "avg_returns = filtered[sector_cols].mean()\n",
    "\n",
    "# Plotting\n",
    "fig, ax = plt.subplots()\n",
    "avg_returns.sort_values().plot(kind='barh', ax=ax)\n",
    "ax.set_title(f\"Avg Monthly Returns During {selected_regime} Regime\")\n",
    "ax.set_xlabel(\"Return\")\n",
    "ax.set_ylabel(\"Sector ETF\")\n",
    "st.pyplot(fig)\n",
    "\n",
    "# Optional: data preview\n",
    "if st.checkbox(\"Show raw data\"):\n",
    "    st.write(filtered)\n"
   ]
  },
  {
   "cell_type": "code",
   "execution_count": 12,
   "id": "d89fedad-7816-41d5-a04e-b9120c3b29f6",
   "metadata": {},
   "outputs": [
    {
     "data": {
      "text/plain": [
       "'C:\\\\Users\\\\micha\\\\Downloads\\\\Research'"
      ]
     },
     "execution_count": 12,
     "metadata": {},
     "output_type": "execute_result"
    }
   ],
   "source": [
    "import os\n",
    "os.getcwd()\n"
   ]
  },
  {
   "cell_type": "code",
   "execution_count": null,
   "id": "cabdfdf2-a407-4b27-840b-a2633cb0a38b",
   "metadata": {},
   "outputs": [],
   "source": []
  }
 ],
 "metadata": {
  "kernelspec": {
   "display_name": "Python 3 (ipykernel)",
   "language": "python",
   "name": "python3"
  },
  "language_info": {
   "codemirror_mode": {
    "name": "ipython",
    "version": 3
   },
   "file_extension": ".py",
   "mimetype": "text/x-python",
   "name": "python",
   "nbconvert_exporter": "python",
   "pygments_lexer": "ipython3",
   "version": "3.12.3"
  }
 },
 "nbformat": 4,
 "nbformat_minor": 5
}
